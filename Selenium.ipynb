{
 "cells": [
  {
   "cell_type": "code",
   "execution_count": 6,
   "metadata": {},
   "outputs": [],
   "source": [
    "from selenium import webdriver\n",
    "\n",
    "    "
   ]
  },
  {
   "cell_type": "code",
   "execution_count": 1,
   "metadata": {},
   "outputs": [
    {
     "name": "stdout",
     "output_type": "stream",
     "text": [
      "Apple iPhone X (Space Gray, 64 GB)\n",
      "₹69,999\n",
      "4.6\n"
     ]
    }
   ],
   "source": [
    "from selenium import webdriver\n",
    "from bs4 import BeautifulSoup\n",
    "\n",
    "\n",
    "#Assign URL to a variable and make a request\n",
    "\n",
    "driver = webdriver.Chrome()\n",
    "driver.get(\"https://www.flipkart.com/search?q=iphone&otracker=search&otracker1=search&marketplace=FLIPKART&as-show=on&as=off\")\n",
    "page_source = driver.page_source\n",
    "\n",
    "\n",
    "\n",
    "#Parse the response and print HTML.\n",
    "parsed_response = BeautifulSoup(page_source, \"html.parser\")\n",
    "\n",
    "product_container = parsed_response.find_all(\"div\",attrs={\"class\" : \"_3wU53n\"})\n",
    "price_container = parsed_response.find_all(\"div\",attrs={\"class\" : \"_1vC4OE _2rQ-NK\"})\n",
    "rating_container = parsed_response.find_all(\"div\",attrs={\"class\" : \"hGSR34\"})\n",
    "\n",
    "print(product_container[0].text)\n",
    "print(price_container[0].text)\n",
    "print(rating_container[0].text)\n",
    "\n"
   ]
  },
  {
   "cell_type": "code",
   "execution_count": 75,
   "metadata": {},
   "outputs": [],
   "source": [
    "from selenium import webdriver\n",
    "from selenium.webdriver.common.keys import Keys\n",
    "from bs4 import BeautifulSoup\n",
    "\n",
    "driver = webdriver.Chrome()\n",
    "driver.get(\"http://www.caloriemama.ai/api\")\n",
    "html = driver.page_source.encode('utf-8')\n",
    "img_path=\"/home/abhishek/Desktop/sushi.jpg\"\n",
    "\n",
    "\n",
    "\n",
    " \n",
    "    \n",
    "try:\n",
    "        load_more = driver.find_element_by_css_selector('.fileUpload').click()\n",
    "        driver.find_element_by_css_selector('input[type=\"file\"]').send_keys(img_path)\n",
    " \n",
    "except:\n",
    "    pass\n",
    "\n",
    "\n",
    "\n",
    "\n"
   ]
  },
  {
   "cell_type": "code",
   "execution_count": 117,
   "metadata": {},
   "outputs": [
    {
     "name": "stdout",
     "output_type": "stream",
     "text": [
      "The output of the given Image is:\n",
      "Sushi\n",
      "Sub-Category: Quantity: Calories\n",
      "\n",
      "Egg Nigiri 1 piece49\n",
      "\n",
      "\n",
      "Salmon Nigiri 1 piece139\n",
      "\n",
      "\n",
      "Rainbow Roll 1 piece43\n",
      "\n",
      "\n",
      "Shrimp Nigiri 1 piece48\n",
      "\n",
      "\n",
      "Fatty Tuna Nigiri 1 piece53\n",
      "\n",
      "\n",
      "California Roll 1 piece54\n",
      "\n",
      "\n",
      "Tuna Nigiri 1 piece15\n",
      "\n",
      "\n",
      "Philadelphia Roll 1 piece45\n",
      "\n",
      "\n",
      "Yellow Tail Nigiri 1 piece14\n",
      "\n"
     ]
    }
   ],
   "source": [
    "sub_category=[]\n",
    "sub=[]\n",
    "page_source = driver.page_source\n",
    "parsed_response = BeautifulSoup(page_source, \"html.parser\")\n",
    "final_predicted = parsed_response.find_all('div', class_ = 'group-name')\n",
    "\n",
    "\n",
    "\n",
    "sub = parsed_response.find_all('div', class_ = 'food-item')\n",
    "\n",
    "for i in range(9):\n",
    "    sub_category.append(sub[i].text)\n",
    "\n",
    "print('The output of the given Image is:')  \n",
    "\n",
    "print(final_predicted[0].text) \n",
    "\n",
    "print('Sub-Category: Quantity: Calories')\n",
    "\n",
    "for i in range(9):\n",
    "    print(sub_category[i])        \n",
    "\n",
    "\n",
    "\n",
    "\n",
    "\n",
    "\n"
   ]
  },
  {
   "cell_type": "code",
   "execution_count": null,
   "metadata": {},
   "outputs": [],
   "source": []
  }
 ],
 "metadata": {
  "kernelspec": {
   "display_name": "Python 3",
   "language": "python",
   "name": "python3"
  },
  "language_info": {
   "codemirror_mode": {
    "name": "ipython",
    "version": 3
   },
   "file_extension": ".py",
   "mimetype": "text/x-python",
   "name": "python",
   "nbconvert_exporter": "python",
   "pygments_lexer": "ipython3",
   "version": "3.7.3"
  }
 },
 "nbformat": 4,
 "nbformat_minor": 2
}
